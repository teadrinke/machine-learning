{
  "nbformat": 4,
  "nbformat_minor": 0,
  "metadata": {
    "colab": {
      "name": "Encrytion_Decryption.ipynb",
      "provenance": [],
      "authorship_tag": "ABX9TyNPcegZXN49R2Tq4UgODBgn",
      "include_colab_link": true
    },
    "kernelspec": {
      "name": "python3",
      "display_name": "Python 3"
    },
    "language_info": {
      "name": "python"
    }
  },
  "cells": [
    {
      "cell_type": "markdown",
      "metadata": {
        "id": "view-in-github",
        "colab_type": "text"
      },
      "source": [
        "<a href=\"https://colab.research.google.com/github/teadrinke/machine-learning/blob/main/Encrytion_Decryption.ipynb\" target=\"_parent\"><img src=\"https://colab.research.google.com/assets/colab-badge.svg\" alt=\"Open In Colab\"/></a>"
      ]
    },
    {
      "cell_type": "code",
      "execution_count": null,
      "metadata": {
        "id": "Ucxe0dj8mgyy"
      },
      "outputs": [],
      "source": [
        "#importing the necessary libraries\n",
        "import numpy as np\n",
        "import matplotlib.pyplot as plt\n",
        "import string\n",
        "import random\n",
        "import re\n",
        "import requests\n",
        "import os\n",
        "import textwrap"
      ]
    },
    {
      "cell_type": "code",
      "source": [
        "#creating a cipher\n",
        "#to create a mapping which we donot know for a-z\n",
        "letters1 = list(string.ascii_lowercase)\n",
        "letters2 = list(string.ascii_lowercase)\n",
        "\n",
        "true_mapping = {}\n",
        "\n",
        "random.shuffle(letters2)\n",
        "\n",
        "#populating the dictionary\n",
        "for k,v in zip(letters1, letters2):\n",
        "  true_mapping[k] = v"
      ],
      "metadata": {
        "id": "QGGhngFTsqPL"
      },
      "execution_count": null,
      "outputs": []
    },
    {
      "cell_type": "code",
      "source": [
        "#building the language model\n",
        "pi = np.zeros(26)\n",
        "A = np.ones((26,26))\n",
        "\n",
        "def add_to_pi(ch):\n",
        "  # ord('a') = 97, ord('b') = 98, ...\n",
        "  idx = ord(ch) - 97\n",
        "  pi[idx] += 1\n",
        "\n",
        "def add_to_A(ch1,ch2):\n",
        "  # ord('a') = 97, ord('b') = 98, ...\n",
        "  idx1 =  ord(ch1) - 97\n",
        "  idx2 = ord(ch2) - 97\n",
        "  A[idx1, idx2] += 1\n",
        "\n",
        "def word_to_prob(word):\n",
        "  i = ord(word[0]) - 97\n",
        "  logp = np.log(pi[i])\n",
        "\n",
        "  for ch in word[1:]:\n",
        "    \n",
        "    j = ord(ch) - 97\n",
        "    logp += np.log(A[i,j]) #update prob\n",
        "    i = j #update j\n",
        "\n",
        "  return logp\n",
        "\n",
        "def sente_to_prob(input1):\n",
        "  if type(input1) == str:\n",
        "    tokens = input1.split()\n",
        "  prob = 0\n",
        "  for k in tokens:\n",
        "    temp = word_to_prob(k)\n",
        "    prob += temp\n",
        "\n",
        "  return prob\n"
      ],
      "metadata": {
        "id": "_i78GnUothUA"
      },
      "execution_count": null,
      "outputs": []
    },
    {
      "cell_type": "code",
      "source": [
        "### create a markov model based on an English dataset\n",
        "if not os.path.exists('moby_dick.txt'):\n",
        "  print(\"Downloading moby dick...\")\n",
        "  r = requests.get('https://lazyprogrammer.me/course_files/moby_dick.txt')\n",
        "  with open('moby_dick.txt', 'w') as f: #opening in the write mode\n",
        "    f.write(r.content.decode())"
      ],
      "metadata": {
        "id": "_xGW04sythWd"
      },
      "execution_count": null,
      "outputs": []
    },
    {
      "cell_type": "code",
      "source": [
        "# for replacing non-alpha characters\n",
        "regex = re.compile('[^a-zA-Z]')\n",
        "\n",
        "#loading the data into pi and A \n",
        "for line in open('moby_dick.txt'):\n",
        "\n",
        "  if line:\n",
        "    line = regex.sub(' ', line) #replace all non-alpha characters by white space\n",
        "    line = line.rstrip().lower()\n",
        "\n",
        "  tokens = line.lower().split()\n",
        "\n",
        "  for token in tokens:\n",
        "    ch0 = token[0]\n",
        "    add_to_pi(ch0)\n",
        "\n",
        "    for i in token[1:]:\n",
        "      add_to_A(ch0,i)\n",
        "      ch0 = i\n",
        "#normalize pi and A\n",
        "pi /= pi.sum()\n",
        "A /= A.sum(axis=1, keepdims=True)"
      ],
      "metadata": {
        "id": "4nKpKa0cthaE"
      },
      "execution_count": null,
      "outputs": []
    },
    {
      "cell_type": "code",
      "source": [
        "### encode a message\n",
        "\n",
        "# this is a random excerpt from Project Gutenberg's\n",
        "# The Adventures of Sherlock Holmes, by Arthur Conan Doyle\n",
        "# https://www.gutenberg.org/ebooks/1661\n",
        "\n",
        "original_message = '''I then lounged down the street and found,\n",
        "as I expected, that there was a mews in a lane which runs down\n",
        "by one wall of the garden. I lent the ostlers a hand in rubbing\n",
        "down their horses, and received in exchange twopence, a glass of\n",
        "half-and-half, two fills of shag tobacco, and as much information\n",
        "as I could desire about Miss Adler, to say nothing of half a dozen\n",
        "other people in the neighbourhood in whom I was not in the least\n",
        "interested, but whose biographies I was compelled to listen to.\n",
        "'''\n",
        "\n",
        "# Away they went, and I was just wondering whether I should not do well\n",
        "# to follow them when up the lane came a neat little landau, the coachman\n",
        "# with his coat only half-buttoned, and his tie under his ear, while all\n",
        "# the tags of his harness were sticking out of the buckles. It hadn't\n",
        "# pulled up before she shot out of the hall door and into it. I only\n",
        "# caught a glimpse of her at the moment, but she was a lovely woman, with\n",
        "# a face that a man might die for.\n",
        "\n",
        "# My cabby drove fast. I don't think I ever drove faster, but the others\n",
        "# were there before us. The cab and the landau with their steaming horses\n",
        "# were in front of the door when I arrived. I paid the man and hurried\n",
        "# into the church. There was not a soul there save the two whom I had\n",
        "# followed and a surpliced clergyman, who seemed to be expostulating with\n",
        "# them. They were all three standing in a knot in front of the altar. I\n",
        "# lounged up the side aisle like any other idler who has dropped into a\n",
        "# church. Suddenly, to my surprise, the three at the altar faced round to\n",
        "# me, and Godfrey Norton came running as hard as he could towards me."
      ],
      "metadata": {
        "id": "Lnf8hgKz6MQ8"
      },
      "execution_count": null,
      "outputs": []
    },
    {
      "cell_type": "code",
      "source": [
        "#encoding the message\n",
        "\n",
        "def encode_msg(msg):\n",
        "  msg = msg.lower()\n",
        "\n",
        "  msg = regex.sub(' ', msg)\n",
        "\n",
        "  coded_msg = []\n",
        "  for ch in msg:\n",
        "    coded_ch = ch #could just be a space\n",
        "    if ch in true_mapping:\n",
        "      coded_ch = true_mapping[ch]\n",
        "    coded_msg.append(coded_ch)\n",
        "\n",
        "  return ''.join(coded_msg)\n",
        "\n",
        "encoded_message = encode_msg(original_message)\n",
        "\n",
        "#decoding the message\n",
        "def decode_msg(msg, word_map):\n",
        "    msg = msg.lower()\n",
        "\n",
        "    msg = regex.sub(' ', msg)\n",
        "\n",
        "    decoded_msg = []\n",
        "\n",
        "    for ch in msg:\n",
        "      decoded_ch = ch\n",
        "      if ch in word_map:\n",
        "        decoded_ch = word_map[ch]\n",
        "      decoded_msg.append(decoded_ch)\n",
        "\n",
        "    return ''.join(decoded_msg)\n",
        "\n"
      ],
      "metadata": {
        "id": "FINypmpe6MUW"
      },
      "execution_count": null,
      "outputs": []
    },
    {
      "cell_type": "code",
      "source": [
        "#run an evolutionary/genetic algorithm to decode the message\n",
        "dna_pool = []\n",
        "\n",
        "for i in range(20):\n",
        "  dna= list(string.ascii_lowercase) #returns all lowercase letters in the form of list\n",
        "  random.shuffle(dna)\n",
        "  dna_pool.append(dna)\n",
        "\n",
        "  "
      ],
      "metadata": {
        "id": "OgNcF6M4bNY_"
      },
      "execution_count": null,
      "outputs": []
    },
    {
      "cell_type": "code",
      "source": [
        "#how to create offspring \n",
        "def evolve_offspring(dna_pool, no_of_child):\n",
        "  offspring = []\n",
        "\n",
        "  for dna in dna_pool:\n",
        "    for i in range(no_of_child):\n",
        "      copy = dna.copy()\n",
        "      j = np.random.randint(len(copy))\n",
        "      k = np.random.randint(len(copy))\n",
        "\n",
        "      #swapping\n",
        "      temp = copy[j]\n",
        "      copy[j] = copy[k]\n",
        "      copy[k] = temp\n",
        "\n",
        "      offspring.append(copy)\n",
        "\n",
        "  return   offspring + dna_pool"
      ],
      "metadata": {
        "id": "dxKaT1tcbNiu"
      },
      "execution_count": null,
      "outputs": []
    },
    {
      "cell_type": "code",
      "source": [
        "num_iters = 5000\n",
        "scores = np.zeros(num_iters)\n",
        "best_dna = None\n",
        "best_map = None\n",
        "best_score = float('-inf')\n",
        "for i in range(num_iters):\n",
        "  if i> 0:\n",
        "    dna_pool = evolve_offspring(dna_pool,3)\n",
        "  dna2score = {}\n",
        "  \n",
        "  for dna in dna_pool:\n",
        "\n",
        "    current_map = {}\n",
        "\n",
        "    for k,v in zip(letters1, dna):\n",
        "      current_map[k] = v\n",
        "    \n",
        "    decoded_message = decode_msg(encoded_message, current_map)\n",
        "    score = sente_to_prob(decoded_message)\n",
        "\n",
        "    dna2score[''.join(dna)] = score\n",
        "    if score>best_score:\n",
        "      best_score = score\n",
        "      best_map = current_map\n",
        "      best_dna = dna\n",
        "  scores[i] = np.mean(list(dna2score.values()))\n",
        "\n",
        "  sorted_dna = sorted(dna2score.items(), key=lambda x: x[1], reverse= True)\n",
        "  dna_pool = [list(k) for k,v in sorted_dna[:5]]\n",
        "  if i % 200 == 0:\n",
        "    print(\"iter:\", i, \"score:\", scores[i], \"best so far:\", best_score)"
      ],
      "metadata": {
        "colab": {
          "base_uri": "https://localhost:8080/"
        },
        "id": "wwZOOVooiE7n",
        "outputId": "1f797e42-9817-45ba-c5ab-2323407e25c7"
      },
      "execution_count": null,
      "outputs": [
        {
          "output_type": "stream",
          "name": "stdout",
          "text": [
            "iter: 0 score: -2100.0697647048737 best so far: -1834.852927955895\n",
            "iter: 200 score: -1037.5779114626482 best so far: -952.6801420996765\n",
            "iter: 400 score: -1004.5840892864102 best so far: -929.5902922650557\n",
            "iter: 600 score: -1027.8997834633237 best so far: -929.5902922650557\n",
            "iter: 800 score: -999.783310305305 best so far: -929.5902922650557\n",
            "iter: 1000 score: -1021.4046502110043 best so far: -929.5902922650557\n",
            "iter: 1200 score: -1011.2537514249107 best so far: -929.5902922650557\n",
            "iter: 1400 score: -1027.4562565767158 best so far: -929.5902922650557\n",
            "iter: 1600 score: -988.2861217643319 best so far: -929.5902922650557\n",
            "iter: 1800 score: -1003.5936040929325 best so far: -929.5902922650557\n",
            "iter: 2000 score: -997.369558574045 best so far: -929.5902922650557\n",
            "iter: 2200 score: -1043.9309897030248 best so far: -929.5902922650557\n",
            "iter: 2400 score: -1015.6406590906728 best so far: -929.5902922650557\n",
            "iter: 2600 score: -1012.3945857074771 best so far: -929.5902922650557\n",
            "iter: 2800 score: -1011.329039717146 best so far: -929.5902922650557\n",
            "iter: 3000 score: -1012.2477808379282 best so far: -929.5902922650557\n",
            "iter: 3200 score: -1022.9496127373378 best so far: -929.5902922650557\n",
            "iter: 3400 score: -1012.437584084359 best so far: -929.5902922650557\n",
            "iter: 3600 score: -1046.561308363575 best so far: -929.5902922650557\n",
            "iter: 3800 score: -1033.8558598027323 best so far: -929.5902922650557\n",
            "iter: 4000 score: -1054.4918399866172 best so far: -929.5902922650557\n",
            "iter: 4200 score: -1033.3856216547483 best so far: -929.5902922650557\n",
            "iter: 4400 score: -1018.6473270050928 best so far: -929.5902922650557\n",
            "iter: 4600 score: -1043.1648182706783 best so far: -929.5902922650557\n",
            "iter: 4800 score: -1024.5405743970375 best so far: -929.5902922650557\n"
          ]
        }
      ]
    },
    {
      "cell_type": "code",
      "source": [
        "# use best score\n",
        "decoded_message = decode_msg(encoded_message, best_map)\n",
        "\n",
        "print(\"LL of decoded message:\", sente_to_prob(decoded_message))\n",
        "print(\"LL of true message:\", sente_to_prob(regex.sub(' ', original_message.lower())))\n",
        "\n",
        "\n",
        "# which letters are wrong?\n",
        "for true, v in true_mapping.items():\n",
        "  pred = best_map[v]\n",
        "  if true != pred:\n",
        "    print(\"true: %s, pred: %s\" % (true, pred))"
      ],
      "metadata": {
        "colab": {
          "base_uri": "https://localhost:8080/"
        },
        "id": "sj-t1I82iE_A",
        "outputId": "60e3d886-1339-42c0-9fdd-b5fdbd0be1f8"
      },
      "execution_count": null,
      "outputs": [
        {
          "output_type": "stream",
          "name": "stdout",
          "text": [
            "LL of decoded message: -929.5902922650557\n",
            "LL of true message: -933.0312453751817\n",
            "true: j, pred: q\n",
            "true: k, pred: j\n",
            "true: q, pred: z\n",
            "true: z, pred: k\n"
          ]
        }
      ]
    },
    {
      "cell_type": "code",
      "source": [
        "# print the final decoded message\n",
        "print(\"Decoded message:\\n\", textwrap.fill(decoded_message))\n",
        "\n",
        "print(\"\\nTrue message:\\n\", original_message)"
      ],
      "metadata": {
        "colab": {
          "base_uri": "https://localhost:8080/"
        },
        "id": "5VWK4kNw9VdV",
        "outputId": "51db63ef-fd50-44bb-da3a-a5cb9ba0b706"
      },
      "execution_count": null,
      "outputs": [
        {
          "output_type": "stream",
          "name": "stdout",
          "text": [
            "Decoded message:\n",
            " i then lounged down the street and found  as i expected  that there\n",
            "was a mews in a lane which runs down by one wall of the garden  i lent\n",
            "the ostlers a hand in rubbing down their horses  and received in\n",
            "exchange twopence  a glass of half and half  two fills of shag tobacco\n",
            "and as much information as i could desire about miss adler  to say\n",
            "nothing of half a doken other people in the neighbourhood in whom i\n",
            "was not in the least interested  but whose biographies i was compelled\n",
            "to listen to\n",
            "\n",
            "True message:\n",
            " I then lounged down the street and found,\n",
            "as I expected, that there was a mews in a lane which runs down\n",
            "by one wall of the garden. I lent the ostlers a hand in rubbing\n",
            "down their horses, and received in exchange twopence, a glass of\n",
            "half-and-half, two fills of shag tobacco, and as much information\n",
            "as I could desire about Miss Adler, to say nothing of half a dozen\n",
            "other people in the neighbourhood in whom I was not in the least\n",
            "interested, but whose biographies I was compelled to listen to.\n",
            "\n"
          ]
        }
      ]
    },
    {
      "cell_type": "code",
      "source": [
        "plt.plot(scores)\n",
        "plt.show()"
      ],
      "metadata": {
        "colab": {
          "base_uri": "https://localhost:8080/",
          "height": 265
        },
        "id": "Tke1sh2h9Vfz",
        "outputId": "1a585471-93f9-400d-ffda-df153b416dfa"
      },
      "execution_count": null,
      "outputs": [
        {
          "output_type": "display_data",
          "data": {
            "text/plain": [
              "<Figure size 432x288 with 1 Axes>"
            ],
            "image/png": "[encoded data removed]"
          },
          "metadata": {
            "needs_background": "light"
          }
        }
      ]
    }
  ]
}