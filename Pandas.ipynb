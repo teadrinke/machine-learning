{
 "cells": [
  {
   "cell_type": "code",
   "execution_count": 1,
   "id": "25b23e33",
   "metadata": {},
   "outputs": [],
   "source": [
    "import numpy as np\n",
    "import pandas as pd"
   ]
  },
  {
   "cell_type": "code",
   "execution_count": 2,
   "id": "0786ebd0",
   "metadata": {},
   "outputs": [],
   "source": [
    "dict1={                                          #here keyword goes as feature and values related to it goes as variales\n",
    "    \"name\":['harry','rohan','yash'],\n",
    "    \"marks\":[204,56,78],\n",
    "    \"city\":['Delhi','bareilly','europe' ]\n",
    "}"
   ]
  },
  {
   "cell_type": "code",
   "execution_count": 4,
   "id": "702308e9",
   "metadata": {},
   "outputs": [],
   "source": [
    "df = pd.DataFrame(dict1)"
   ]
  },
  {
   "cell_type": "code",
   "execution_count": 5,
   "id": "0d8b94d7",
   "metadata": {},
   "outputs": [],
   "source": [
    "df.to_csv('first.csv', index=False)       #csv file me index wala column nahi chahiye"
   ]
  },
  {
   "cell_type": "code",
   "execution_count": 6,
   "id": "360b92c8",
   "metadata": {},
   "outputs": [
    {
     "data": {
      "text/html": [
       "<div>\n",
       "<style scoped>\n",
       "    .dataframe tbody tr th:only-of-type {\n",
       "        vertical-align: middle;\n",
       "    }\n",
       "\n",
       "    .dataframe tbody tr th {\n",
       "        vertical-align: top;\n",
       "    }\n",
       "\n",
       "    .dataframe thead th {\n",
       "        text-align: right;\n",
       "    }\n",
       "</style>\n",
       "<table border=\"1\" class=\"dataframe\">\n",
       "  <thead>\n",
       "    <tr style=\"text-align: right;\">\n",
       "      <th></th>\n",
       "      <th>name</th>\n",
       "      <th>marks</th>\n",
       "      <th>city</th>\n",
       "    </tr>\n",
       "  </thead>\n",
       "  <tbody>\n",
       "    <tr>\n",
       "      <th>0</th>\n",
       "      <td>harry</td>\n",
       "      <td>204</td>\n",
       "      <td>Delhi</td>\n",
       "    </tr>\n",
       "    <tr>\n",
       "      <th>1</th>\n",
       "      <td>rohan</td>\n",
       "      <td>56</td>\n",
       "      <td>bareilly</td>\n",
       "    </tr>\n",
       "  </tbody>\n",
       "</table>\n",
       "</div>"
      ],
      "text/plain": [
       "    name  marks      city\n",
       "0  harry    204     Delhi\n",
       "1  rohan     56  bareilly"
      ]
     },
     "execution_count": 6,
     "metadata": {},
     "output_type": "execute_result"
    }
   ],
   "source": [
    "df.head(2)"
   ]
  },
  {
   "cell_type": "code",
   "execution_count": 7,
   "id": "368b0d79",
   "metadata": {},
   "outputs": [
    {
     "data": {
      "text/html": [
       "<div>\n",
       "<style scoped>\n",
       "    .dataframe tbody tr th:only-of-type {\n",
       "        vertical-align: middle;\n",
       "    }\n",
       "\n",
       "    .dataframe tbody tr th {\n",
       "        vertical-align: top;\n",
       "    }\n",
       "\n",
       "    .dataframe thead th {\n",
       "        text-align: right;\n",
       "    }\n",
       "</style>\n",
       "<table border=\"1\" class=\"dataframe\">\n",
       "  <thead>\n",
       "    <tr style=\"text-align: right;\">\n",
       "      <th></th>\n",
       "      <th>name</th>\n",
       "      <th>marks</th>\n",
       "      <th>city</th>\n",
       "    </tr>\n",
       "  </thead>\n",
       "  <tbody>\n",
       "    <tr>\n",
       "      <th>1</th>\n",
       "      <td>rohan</td>\n",
       "      <td>56</td>\n",
       "      <td>bareilly</td>\n",
       "    </tr>\n",
       "    <tr>\n",
       "      <th>2</th>\n",
       "      <td>yash</td>\n",
       "      <td>78</td>\n",
       "      <td>europe</td>\n",
       "    </tr>\n",
       "  </tbody>\n",
       "</table>\n",
       "</div>"
      ],
      "text/plain": [
       "    name  marks      city\n",
       "1  rohan     56  bareilly\n",
       "2   yash     78    europe"
      ]
     },
     "execution_count": 7,
     "metadata": {},
     "output_type": "execute_result"
    }
   ],
   "source": [
    "df.tail(2)"
   ]
  },
  {
   "cell_type": "code",
   "execution_count": 8,
   "id": "af3cdcf2",
   "metadata": {},
   "outputs": [
    {
     "data": {
      "text/html": [
       "<div>\n",
       "<style scoped>\n",
       "    .dataframe tbody tr th:only-of-type {\n",
       "        vertical-align: middle;\n",
       "    }\n",
       "\n",
       "    .dataframe tbody tr th {\n",
       "        vertical-align: top;\n",
       "    }\n",
       "\n",
       "    .dataframe thead th {\n",
       "        text-align: right;\n",
       "    }\n",
       "</style>\n",
       "<table border=\"1\" class=\"dataframe\">\n",
       "  <thead>\n",
       "    <tr style=\"text-align: right;\">\n",
       "      <th></th>\n",
       "      <th>marks</th>\n",
       "    </tr>\n",
       "  </thead>\n",
       "  <tbody>\n",
       "    <tr>\n",
       "      <th>count</th>\n",
       "      <td>3.000000</td>\n",
       "    </tr>\n",
       "    <tr>\n",
       "      <th>mean</th>\n",
       "      <td>112.666667</td>\n",
       "    </tr>\n",
       "    <tr>\n",
       "      <th>std</th>\n",
       "      <td>79.858208</td>\n",
       "    </tr>\n",
       "    <tr>\n",
       "      <th>min</th>\n",
       "      <td>56.000000</td>\n",
       "    </tr>\n",
       "    <tr>\n",
       "      <th>25%</th>\n",
       "      <td>67.000000</td>\n",
       "    </tr>\n",
       "    <tr>\n",
       "      <th>50%</th>\n",
       "      <td>78.000000</td>\n",
       "    </tr>\n",
       "    <tr>\n",
       "      <th>75%</th>\n",
       "      <td>141.000000</td>\n",
       "    </tr>\n",
       "    <tr>\n",
       "      <th>max</th>\n",
       "      <td>204.000000</td>\n",
       "    </tr>\n",
       "  </tbody>\n",
       "</table>\n",
       "</div>"
      ],
      "text/plain": [
       "            marks\n",
       "count    3.000000\n",
       "mean   112.666667\n",
       "std     79.858208\n",
       "min     56.000000\n",
       "25%     67.000000\n",
       "50%     78.000000\n",
       "75%    141.000000\n",
       "max    204.000000"
      ]
     },
     "execution_count": 8,
     "metadata": {},
     "output_type": "execute_result"
    }
   ],
   "source": [
    "df.describe()"
   ]
  },
  {
   "cell_type": "code",
   "execution_count": null,
   "id": "03fb89c4",
   "metadata": {},
   "outputs": [],
   "source": [
    " #harry = pd.read_csv('filename.csv') to read the csv file into harry\n",
    " #harry.index= ['first','second',...] changes first column 0,1,2,3 to first second third,..  "
   ]
  },
  {
   "cell_type": "code",
   "execution_count": 9,
   "id": "0c5ce255",
   "metadata": {},
   "outputs": [],
   "source": [
    "ser = pd.Series(np.random.rand(34))"
   ]
  },
  {
   "cell_type": "code",
   "execution_count": 10,
   "id": "19dbd63f",
   "metadata": {},
   "outputs": [
    {
     "data": {
      "text/plain": [
       "0     0.336377\n",
       "1     0.298323\n",
       "2     0.885720\n",
       "3     0.162261\n",
       "4     0.382077\n",
       "5     0.170144\n",
       "6     0.031782\n",
       "7     0.935073\n",
       "8     0.184480\n",
       "9     0.000080\n",
       "10    0.669602\n",
       "11    0.174970\n",
       "12    0.191134\n",
       "13    0.425953\n",
       "14    0.737708\n",
       "15    0.848022\n",
       "16    0.161855\n",
       "17    0.744275\n",
       "18    0.679962\n",
       "19    0.042009\n",
       "20    0.134071\n",
       "21    0.293216\n",
       "22    0.230552\n",
       "23    0.039017\n",
       "24    0.990872\n",
       "25    0.380175\n",
       "26    0.103911\n",
       "27    0.620577\n",
       "28    0.396552\n",
       "29    0.152835\n",
       "30    0.766557\n",
       "31    0.951101\n",
       "32    0.794652\n",
       "33    0.703269\n",
       "dtype: float64"
      ]
     },
     "execution_count": 10,
     "metadata": {},
     "output_type": "execute_result"
    }
   ],
   "source": [
    "ser"
   ]
  },
  {
   "cell_type": "code",
   "execution_count": 11,
   "id": "121178c9",
   "metadata": {},
   "outputs": [],
   "source": [
    "newdf = pd.DataFrame(np.random.rand(334,5), np.arange(334))"
   ]
  },
  {
   "cell_type": "code",
   "execution_count": 12,
   "id": "915ef1be",
   "metadata": {},
   "outputs": [
    {
     "data": {
      "text/html": [
       "<div>\n",
       "<style scoped>\n",
       "    .dataframe tbody tr th:only-of-type {\n",
       "        vertical-align: middle;\n",
       "    }\n",
       "\n",
       "    .dataframe tbody tr th {\n",
       "        vertical-align: top;\n",
       "    }\n",
       "\n",
       "    .dataframe thead th {\n",
       "        text-align: right;\n",
       "    }\n",
       "</style>\n",
       "<table border=\"1\" class=\"dataframe\">\n",
       "  <thead>\n",
       "    <tr style=\"text-align: right;\">\n",
       "      <th></th>\n",
       "      <th>0</th>\n",
       "      <th>1</th>\n",
       "      <th>2</th>\n",
       "      <th>3</th>\n",
       "      <th>4</th>\n",
       "    </tr>\n",
       "  </thead>\n",
       "  <tbody>\n",
       "    <tr>\n",
       "      <th>0</th>\n",
       "      <td>0.859342</td>\n",
       "      <td>0.596967</td>\n",
       "      <td>0.369196</td>\n",
       "      <td>0.658585</td>\n",
       "      <td>0.460590</td>\n",
       "    </tr>\n",
       "    <tr>\n",
       "      <th>1</th>\n",
       "      <td>0.318728</td>\n",
       "      <td>0.843719</td>\n",
       "      <td>0.795158</td>\n",
       "      <td>0.283002</td>\n",
       "      <td>0.112944</td>\n",
       "    </tr>\n",
       "    <tr>\n",
       "      <th>2</th>\n",
       "      <td>0.805208</td>\n",
       "      <td>0.078164</td>\n",
       "      <td>0.166475</td>\n",
       "      <td>0.904762</td>\n",
       "      <td>0.361594</td>\n",
       "    </tr>\n",
       "    <tr>\n",
       "      <th>3</th>\n",
       "      <td>0.781560</td>\n",
       "      <td>0.575670</td>\n",
       "      <td>0.211079</td>\n",
       "      <td>0.348508</td>\n",
       "      <td>0.477460</td>\n",
       "    </tr>\n",
       "    <tr>\n",
       "      <th>4</th>\n",
       "      <td>0.474488</td>\n",
       "      <td>0.487058</td>\n",
       "      <td>0.141818</td>\n",
       "      <td>0.605821</td>\n",
       "      <td>0.079767</td>\n",
       "    </tr>\n",
       "    <tr>\n",
       "      <th>...</th>\n",
       "      <td>...</td>\n",
       "      <td>...</td>\n",
       "      <td>...</td>\n",
       "      <td>...</td>\n",
       "      <td>...</td>\n",
       "    </tr>\n",
       "    <tr>\n",
       "      <th>329</th>\n",
       "      <td>0.692229</td>\n",
       "      <td>0.772096</td>\n",
       "      <td>0.528766</td>\n",
       "      <td>0.373418</td>\n",
       "      <td>0.180055</td>\n",
       "    </tr>\n",
       "    <tr>\n",
       "      <th>330</th>\n",
       "      <td>0.131327</td>\n",
       "      <td>0.413899</td>\n",
       "      <td>0.375142</td>\n",
       "      <td>0.828992</td>\n",
       "      <td>0.375522</td>\n",
       "    </tr>\n",
       "    <tr>\n",
       "      <th>331</th>\n",
       "      <td>0.915746</td>\n",
       "      <td>0.011384</td>\n",
       "      <td>0.998470</td>\n",
       "      <td>0.026963</td>\n",
       "      <td>0.872469</td>\n",
       "    </tr>\n",
       "    <tr>\n",
       "      <th>332</th>\n",
       "      <td>0.378487</td>\n",
       "      <td>0.470865</td>\n",
       "      <td>0.049305</td>\n",
       "      <td>0.204995</td>\n",
       "      <td>0.137857</td>\n",
       "    </tr>\n",
       "    <tr>\n",
       "      <th>333</th>\n",
       "      <td>0.763795</td>\n",
       "      <td>0.021261</td>\n",
       "      <td>0.272977</td>\n",
       "      <td>0.428939</td>\n",
       "      <td>0.347518</td>\n",
       "    </tr>\n",
       "  </tbody>\n",
       "</table>\n",
       "<p>334 rows × 5 columns</p>\n",
       "</div>"
      ],
      "text/plain": [
       "            0         1         2         3         4\n",
       "0    0.859342  0.596967  0.369196  0.658585  0.460590\n",
       "1    0.318728  0.843719  0.795158  0.283002  0.112944\n",
       "2    0.805208  0.078164  0.166475  0.904762  0.361594\n",
       "3    0.781560  0.575670  0.211079  0.348508  0.477460\n",
       "4    0.474488  0.487058  0.141818  0.605821  0.079767\n",
       "..        ...       ...       ...       ...       ...\n",
       "329  0.692229  0.772096  0.528766  0.373418  0.180055\n",
       "330  0.131327  0.413899  0.375142  0.828992  0.375522\n",
       "331  0.915746  0.011384  0.998470  0.026963  0.872469\n",
       "332  0.378487  0.470865  0.049305  0.204995  0.137857\n",
       "333  0.763795  0.021261  0.272977  0.428939  0.347518\n",
       "\n",
       "[334 rows x 5 columns]"
      ]
     },
     "execution_count": 12,
     "metadata": {},
     "output_type": "execute_result"
    }
   ],
   "source": [
    "newdf"
   ]
  },
  {
   "cell_type": "code",
   "execution_count": null,
   "id": "62e0ca56",
   "metadata": {},
   "outputs": [],
   "source": []
  }
 ],
 "metadata": {
  "kernelspec": {
   "display_name": "Python 3 (ipykernel)",
   "language": "python",
   "name": "python3"
  },
  "language_info": {
   "codemirror_mode": {
    "name": "ipython",
    "version": 3
   },
   "file_extension": ".py",
   "mimetype": "text/x-python",
   "name": "python",
   "nbconvert_exporter": "python",
   "pygments_lexer": "ipython3",
   "version": "3.9.7"
  }
 },
 "nbformat": 4,
 "nbformat_minor": 5
}
